{
 "cells": [
  {
   "cell_type": "markdown",
   "metadata": {},
   "source": [
    "# AQI computation for the year 2008"
   ]
  },
  {
   "cell_type": "code",
   "execution_count": 1,
   "metadata": {},
   "outputs": [],
   "source": [
    "# importing required packages\n",
    "import pandas as pd\n",
    "import numpy as np\n",
    "from datetime import datetime\n",
    "from dateutil.parser import parse\n",
    "import matplotlib.pyplot as plt"
   ]
  },
  {
   "cell_type": "code",
   "execution_count": 2,
   "metadata": {},
   "outputs": [
    {
     "data": {
      "text/html": [
       "<div>\n",
       "<style scoped>\n",
       "    .dataframe tbody tr th:only-of-type {\n",
       "        vertical-align: middle;\n",
       "    }\n",
       "\n",
       "    .dataframe tbody tr th {\n",
       "        vertical-align: top;\n",
       "    }\n",
       "\n",
       "    .dataframe thead th {\n",
       "        text-align: right;\n",
       "    }\n",
       "</style>\n",
       "<table border=\"1\" class=\"dataframe\">\n",
       "  <thead>\n",
       "    <tr style=\"text-align: right;\">\n",
       "      <th></th>\n",
       "      <th>date</th>\n",
       "      <th>so2</th>\n",
       "      <th>no2</th>\n",
       "      <th>rspm</th>\n",
       "      <th>spm</th>\n",
       "    </tr>\n",
       "  </thead>\n",
       "  <tbody>\n",
       "    <tr>\n",
       "      <td>0</td>\n",
       "      <td>2008-01-01</td>\n",
       "      <td>4.000000</td>\n",
       "      <td>36.500000</td>\n",
       "      <td>131.000000</td>\n",
       "      <td>388.000000</td>\n",
       "    </tr>\n",
       "    <tr>\n",
       "      <td>1</td>\n",
       "      <td>2008-01-02</td>\n",
       "      <td>4.948598</td>\n",
       "      <td>47.769626</td>\n",
       "      <td>249.912281</td>\n",
       "      <td>464.264151</td>\n",
       "    </tr>\n",
       "    <tr>\n",
       "      <td>2</td>\n",
       "      <td>2008-01-03</td>\n",
       "      <td>4.948598</td>\n",
       "      <td>47.769626</td>\n",
       "      <td>249.912281</td>\n",
       "      <td>464.264151</td>\n",
       "    </tr>\n",
       "    <tr>\n",
       "      <td>3</td>\n",
       "      <td>2008-01-04</td>\n",
       "      <td>4.000000</td>\n",
       "      <td>40.700000</td>\n",
       "      <td>164.000000</td>\n",
       "      <td>458.000000</td>\n",
       "    </tr>\n",
       "    <tr>\n",
       "      <td>4</td>\n",
       "      <td>2008-01-05</td>\n",
       "      <td>4.948598</td>\n",
       "      <td>47.769626</td>\n",
       "      <td>249.912281</td>\n",
       "      <td>464.264151</td>\n",
       "    </tr>\n",
       "  </tbody>\n",
       "</table>\n",
       "</div>"
      ],
      "text/plain": [
       "        date       so2        no2        rspm         spm\n",
       "0 2008-01-01  4.000000  36.500000  131.000000  388.000000\n",
       "1 2008-01-02  4.948598  47.769626  249.912281  464.264151\n",
       "2 2008-01-03  4.948598  47.769626  249.912281  464.264151\n",
       "3 2008-01-04  4.000000  40.700000  164.000000  458.000000\n",
       "4 2008-01-05  4.948598  47.769626  249.912281  464.264151"
      ]
     },
     "execution_count": 2,
     "metadata": {},
     "output_type": "execute_result"
    }
   ],
   "source": [
    "# loading the dataset\n",
    "df = pd.read_excel(r'C:\\Users\\Admin\\Desktop\\PROJECT\\FYP\\Air-Quality-Index-Analysis\\date_data.xlsx',parse_dates=['date'])\n",
    "df.head()"
   ]
  },
  {
   "cell_type": "code",
   "execution_count": 3,
   "metadata": {},
   "outputs": [],
   "source": [
    "# extracting data for the year 2008\n",
    "df_2008 = pd.DataFrame(df.iloc[0:366])"
   ]
  },
  {
   "cell_type": "code",
   "execution_count": 4,
   "metadata": {},
   "outputs": [
    {
     "data": {
      "text/html": [
       "<div>\n",
       "<style scoped>\n",
       "    .dataframe tbody tr th:only-of-type {\n",
       "        vertical-align: middle;\n",
       "    }\n",
       "\n",
       "    .dataframe tbody tr th {\n",
       "        vertical-align: top;\n",
       "    }\n",
       "\n",
       "    .dataframe thead th {\n",
       "        text-align: right;\n",
       "    }\n",
       "</style>\n",
       "<table border=\"1\" class=\"dataframe\">\n",
       "  <thead>\n",
       "    <tr style=\"text-align: right;\">\n",
       "      <th></th>\n",
       "      <th>date</th>\n",
       "      <th>so2</th>\n",
       "      <th>no2</th>\n",
       "      <th>rspm</th>\n",
       "      <th>spm</th>\n",
       "    </tr>\n",
       "  </thead>\n",
       "  <tbody>\n",
       "    <tr>\n",
       "      <td>361</td>\n",
       "      <td>2008-12-27</td>\n",
       "      <td>4.948598</td>\n",
       "      <td>47.769626</td>\n",
       "      <td>249.912281</td>\n",
       "      <td>464.264151</td>\n",
       "    </tr>\n",
       "    <tr>\n",
       "      <td>362</td>\n",
       "      <td>2008-12-28</td>\n",
       "      <td>4.948598</td>\n",
       "      <td>47.769626</td>\n",
       "      <td>249.912281</td>\n",
       "      <td>464.264151</td>\n",
       "    </tr>\n",
       "    <tr>\n",
       "      <td>363</td>\n",
       "      <td>2008-12-29</td>\n",
       "      <td>8.500000</td>\n",
       "      <td>57.300000</td>\n",
       "      <td>304.000000</td>\n",
       "      <td>539.000000</td>\n",
       "    </tr>\n",
       "    <tr>\n",
       "      <td>364</td>\n",
       "      <td>2008-12-30</td>\n",
       "      <td>4.948598</td>\n",
       "      <td>47.769626</td>\n",
       "      <td>249.912281</td>\n",
       "      <td>464.264151</td>\n",
       "    </tr>\n",
       "    <tr>\n",
       "      <td>365</td>\n",
       "      <td>2008-12-31</td>\n",
       "      <td>4.948598</td>\n",
       "      <td>47.769626</td>\n",
       "      <td>249.912281</td>\n",
       "      <td>464.264151</td>\n",
       "    </tr>\n",
       "  </tbody>\n",
       "</table>\n",
       "</div>"
      ],
      "text/plain": [
       "          date       so2        no2        rspm         spm\n",
       "361 2008-12-27  4.948598  47.769626  249.912281  464.264151\n",
       "362 2008-12-28  4.948598  47.769626  249.912281  464.264151\n",
       "363 2008-12-29  8.500000  57.300000  304.000000  539.000000\n",
       "364 2008-12-30  4.948598  47.769626  249.912281  464.264151\n",
       "365 2008-12-31  4.948598  47.769626  249.912281  464.264151"
      ]
     },
     "execution_count": 4,
     "metadata": {},
     "output_type": "execute_result"
    }
   ],
   "source": [
    "df_2008.tail()"
   ]
  },
  {
   "cell_type": "markdown",
   "metadata": {},
   "source": [
    "## Average AQI calculation for 2008"
   ]
  },
  {
   "cell_type": "markdown",
   "metadata": {},
   "source": [
    "### STEP 1 : Calculating concentration (mean/median) for each pollutant"
   ]
  },
  {
   "cell_type": "code",
   "execution_count": 5,
   "metadata": {},
   "outputs": [],
   "source": [
    "so2_mean = df_2008.so2.mean()\n",
    "no2_mean = df_2008.no2.mean()\n",
    "rspm_mean = df_2008.rspm.mean()\n",
    "spm_mean = df_2008.spm.mean()"
   ]
  },
  {
   "cell_type": "code",
   "execution_count": 6,
   "metadata": {},
   "outputs": [
    {
     "name": "stdout",
     "output_type": "stream",
     "text": [
      "4.9332771564271765\n",
      "46.7095296460857\n",
      "243.9665420381563\n",
      "453.8675121146496\n"
     ]
    }
   ],
   "source": [
    "print(so2_mean)\n",
    "print(no2_mean)\n",
    "print(rspm_mean)\n",
    "print(spm_mean)"
   ]
  },
  {
   "cell_type": "code",
   "execution_count": 7,
   "metadata": {},
   "outputs": [],
   "source": [
    "s = [50,40,60,40]\n",
    "c = [so2_mean, no2_mean, spm_mean, rspm_mean]"
   ]
  },
  {
   "cell_type": "markdown",
   "metadata": {},
   "source": [
    "### STEP 2 : Calculating the pollution index for each component"
   ]
  },
  {
   "cell_type": "code",
   "execution_count": 8,
   "metadata": {},
   "outputs": [
    {
     "name": "stdout",
     "output_type": "stream",
     "text": [
      "[2.4666385782135882, 18.68381185843428, 272.32050726878975, 97.58661681526252]\n"
     ]
    }
   ],
   "source": [
    "q = []\n",
    "for i in range(0,4):\n",
    "    z = s[i]*c[i]/100\n",
    "    q.append(z)\n",
    "print(q)"
   ]
  },
  {
   "cell_type": "markdown",
   "metadata": {},
   "source": [
    "### STEP 3 : Determining the weight ratio for each pollutant"
   ]
  },
  {
   "cell_type": "code",
   "execution_count": 9,
   "metadata": {},
   "outputs": [
    {
     "name": "stdout",
     "output_type": "stream",
     "text": [
      "382\n"
     ]
    }
   ],
   "source": [
    "w = [5,43,133,201] #these values are taken as per the Indian standards\n",
    "w_sum = 0\n",
    "for i in range(0,len(w)):\n",
    "    w_sum += w[i]\n",
    "print(w_sum)"
   ]
  },
  {
   "cell_type": "code",
   "execution_count": 10,
   "metadata": {},
   "outputs": [
    {
     "name": "stdout",
     "output_type": "stream",
     "text": [
      "[0.013089005235602094, 0.112565445026178, 0.3481675392670157, 0.5261780104712042]\n"
     ]
    }
   ],
   "source": [
    "w_ratio = []\n",
    "for i in range(len(w)):\n",
    "    x = float(w[i])/float(w_sum)\n",
    "    w_ratio.append(x)\n",
    "print(w_ratio)"
   ]
  },
  {
   "cell_type": "markdown",
   "metadata": {},
   "source": [
    "### STEP 4 : Evaluation of AQI"
   ]
  },
  {
   "cell_type": "code",
   "execution_count": 11,
   "metadata": {},
   "outputs": [
    {
     "name": "stdout",
     "output_type": "stream",
     "text": [
      "97.76439363017504\n"
     ]
    }
   ],
   "source": [
    "aqi = 0\n",
    "for i in range(0,4):\n",
    "    aqi += q[i]*0.25\n",
    "print(aqi)"
   ]
  },
  {
   "cell_type": "markdown",
   "metadata": {},
   "source": [
    "## Calculating AQI for each day in the year 2008"
   ]
  },
  {
   "cell_type": "code",
   "execution_count": 12,
   "metadata": {},
   "outputs": [],
   "source": [
    "s = [50,40,60,40] \n",
    "list_aqi = []\n",
    "C = []\n",
    "\n",
    "for index,row in df_2008.iterrows():\n",
    "    # concentration (mean/median) for each pollutant\n",
    "    C = [ row['so2'], row['no2'], row['spm'], row['rspm'] ]\n",
    "    \n",
    "    # calculating pollution index\n",
    "    q = []\n",
    "    for i in range(0,4):\n",
    "        z = s[i]*C[i]/100\n",
    "        q.append(z)\n",
    "    \n",
    "    #AQI calculation\n",
    "    aqi = 0\n",
    "    for i in range(0,4):\n",
    "        aqi += q[i]*w_ratio[i]\n",
    "    \n",
    "    list_aqi.append(aqi)\n",
    "    \n",
    "# loading the calculated AQI in the dataframe\n",
    "df_2008['aqi'] = np.array(list_aqi)"
   ]
  },
  {
   "cell_type": "code",
   "execution_count": 13,
   "metadata": {},
   "outputs": [
    {
     "data": {
      "text/html": [
       "<div>\n",
       "<style scoped>\n",
       "    .dataframe tbody tr th:only-of-type {\n",
       "        vertical-align: middle;\n",
       "    }\n",
       "\n",
       "    .dataframe tbody tr th {\n",
       "        vertical-align: top;\n",
       "    }\n",
       "\n",
       "    .dataframe thead th {\n",
       "        text-align: right;\n",
       "    }\n",
       "</style>\n",
       "<table border=\"1\" class=\"dataframe\">\n",
       "  <thead>\n",
       "    <tr style=\"text-align: right;\">\n",
       "      <th></th>\n",
       "      <th>date</th>\n",
       "      <th>so2</th>\n",
       "      <th>no2</th>\n",
       "      <th>rspm</th>\n",
       "      <th>spm</th>\n",
       "      <th>aqi</th>\n",
       "    </tr>\n",
       "  </thead>\n",
       "  <tbody>\n",
       "    <tr>\n",
       "      <td>0</td>\n",
       "      <td>2008-01-01</td>\n",
       "      <td>4.000000</td>\n",
       "      <td>36.500000</td>\n",
       "      <td>131.000000</td>\n",
       "      <td>388.000000</td>\n",
       "      <td>110.294764</td>\n",
       "    </tr>\n",
       "    <tr>\n",
       "      <td>1</td>\n",
       "      <td>2008-01-02</td>\n",
       "      <td>4.948598</td>\n",
       "      <td>47.769626</td>\n",
       "      <td>249.912281</td>\n",
       "      <td>464.264151</td>\n",
       "      <td>151.767633</td>\n",
       "    </tr>\n",
       "    <tr>\n",
       "      <td>2</td>\n",
       "      <td>2008-01-03</td>\n",
       "      <td>4.948598</td>\n",
       "      <td>47.769626</td>\n",
       "      <td>249.912281</td>\n",
       "      <td>464.264151</td>\n",
       "      <td>151.767633</td>\n",
       "    </tr>\n",
       "    <tr>\n",
       "      <td>3</td>\n",
       "      <td>2008-01-04</td>\n",
       "      <td>4.000000</td>\n",
       "      <td>40.700000</td>\n",
       "      <td>164.000000</td>\n",
       "      <td>458.000000</td>\n",
       "      <td>132.052461</td>\n",
       "    </tr>\n",
       "    <tr>\n",
       "      <td>4</td>\n",
       "      <td>2008-01-05</td>\n",
       "      <td>4.948598</td>\n",
       "      <td>47.769626</td>\n",
       "      <td>249.912281</td>\n",
       "      <td>464.264151</td>\n",
       "      <td>151.767633</td>\n",
       "    </tr>\n",
       "  </tbody>\n",
       "</table>\n",
       "</div>"
      ],
      "text/plain": [
       "        date       so2        no2        rspm         spm         aqi\n",
       "0 2008-01-01  4.000000  36.500000  131.000000  388.000000  110.294764\n",
       "1 2008-01-02  4.948598  47.769626  249.912281  464.264151  151.767633\n",
       "2 2008-01-03  4.948598  47.769626  249.912281  464.264151  151.767633\n",
       "3 2008-01-04  4.000000  40.700000  164.000000  458.000000  132.052461\n",
       "4 2008-01-05  4.948598  47.769626  249.912281  464.264151  151.767633"
      ]
     },
     "execution_count": 13,
     "metadata": {},
     "output_type": "execute_result"
    }
   ],
   "source": [
    "df_2008.head()"
   ]
  },
  {
   "cell_type": "code",
   "execution_count": 17,
   "metadata": {
    "scrolled": false
   },
   "outputs": [
    {
     "data": {
      "image/png": "[encoded data removed]",
      "text/plain": [
       "<Figure size 432x288 with 1 Axes>"
      ]
     },
     "metadata": {
      "needs_background": "light"
     },
     "output_type": "display_data"
    }
   ],
   "source": [
    "# plot of everyday AQI \n",
    "df_2008['aqi'].plot()\n",
    "plt.xlabel('Days in 2008')\n",
    "plt.ylabel('AQI values')\n",
    "plt.show()"
   ]
  },
  {
   "cell_type": "code",
   "execution_count": 15,
   "metadata": {},
   "outputs": [],
   "source": [
    "# exporting the calculated value to excel\n",
    "df_2008.to_excel('aqi08_data.xlsx')"
   ]
  }
 ],
 "metadata": {
  "kernelspec": {
   "display_name": "Python 3",
   "language": "python",
   "name": "python3"
  },
  "language_info": {
   "codemirror_mode": {
    "name": "ipython",
    "version": 3
   },
   "file_extension": ".py",
   "mimetype": "text/x-python",
   "name": "python",
   "nbconvert_exporter": "python",
   "pygments_lexer": "ipython3",
   "version": "3.7.4"
  }
 },
 "nbformat": 4,
 "nbformat_minor": 2
}
