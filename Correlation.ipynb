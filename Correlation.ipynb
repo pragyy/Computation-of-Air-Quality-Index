{
 "cells": [
  {
   "cell_type": "markdown",
   "metadata": {},
   "source": [
    "# Correlation matrix"
   ]
  },
  {
   "cell_type": "markdown",
   "metadata": {},
   "source": [
    "A correlation could be positive, meaning both variables move in the same direction, or negative, meaning that when one variable’s value increases, the other variables’ values decrease. Correlation can also be neural or zero, meaning that the variables are unrelated.<br>\n",
    "\n",
    "<b>Positive Correlation:</b> both variables change in the same direction.<br>\n",
    "<b>Neutral Correlation:</b> No relationship in the change of the variables.<br>\n",
    "<b>Negative Correlation:</b> variables change in opposite directions.<br>"
   ]
  },
  {
   "cell_type": "code",
   "execution_count": 1,
   "metadata": {},
   "outputs": [],
   "source": [
    "# importing required packages\n",
    "import seaborn as sb\n",
    "import pandas as pd"
   ]
  },
  {
   "cell_type": "code",
   "execution_count": 2,
   "metadata": {},
   "outputs": [
    {
     "data": {
      "text/html": [
       "<div>\n",
       "<style scoped>\n",
       "    .dataframe tbody tr th:only-of-type {\n",
       "        vertical-align: middle;\n",
       "    }\n",
       "\n",
       "    .dataframe tbody tr th {\n",
       "        vertical-align: top;\n",
       "    }\n",
       "\n",
       "    .dataframe thead th {\n",
       "        text-align: right;\n",
       "    }\n",
       "</style>\n",
       "<table border=\"1\" class=\"dataframe\">\n",
       "  <thead>\n",
       "    <tr style=\"text-align: right;\">\n",
       "      <th></th>\n",
       "      <th>so2</th>\n",
       "      <th>no2</th>\n",
       "      <th>rspm</th>\n",
       "      <th>spm</th>\n",
       "      <th>aqi</th>\n",
       "    </tr>\n",
       "  </thead>\n",
       "  <tbody>\n",
       "    <tr>\n",
       "      <td>0</td>\n",
       "      <td>4.000000</td>\n",
       "      <td>36.500000</td>\n",
       "      <td>131.000000</td>\n",
       "      <td>388.000000</td>\n",
       "      <td>110.294764</td>\n",
       "    </tr>\n",
       "    <tr>\n",
       "      <td>1</td>\n",
       "      <td>4.948598</td>\n",
       "      <td>47.769626</td>\n",
       "      <td>249.912281</td>\n",
       "      <td>464.264151</td>\n",
       "      <td>151.767633</td>\n",
       "    </tr>\n",
       "    <tr>\n",
       "      <td>2</td>\n",
       "      <td>4.948598</td>\n",
       "      <td>47.769626</td>\n",
       "      <td>249.912281</td>\n",
       "      <td>464.264151</td>\n",
       "      <td>151.767633</td>\n",
       "    </tr>\n",
       "    <tr>\n",
       "      <td>3</td>\n",
       "      <td>4.000000</td>\n",
       "      <td>40.700000</td>\n",
       "      <td>164.000000</td>\n",
       "      <td>458.000000</td>\n",
       "      <td>132.052461</td>\n",
       "    </tr>\n",
       "    <tr>\n",
       "      <td>4</td>\n",
       "      <td>4.948598</td>\n",
       "      <td>47.769626</td>\n",
       "      <td>249.912281</td>\n",
       "      <td>464.264151</td>\n",
       "      <td>151.767633</td>\n",
       "    </tr>\n",
       "  </tbody>\n",
       "</table>\n",
       "</div>"
      ],
      "text/plain": [
       "        so2        no2        rspm         spm         aqi\n",
       "0  4.000000  36.500000  131.000000  388.000000  110.294764\n",
       "1  4.948598  47.769626  249.912281  464.264151  151.767633\n",
       "2  4.948598  47.769626  249.912281  464.264151  151.767633\n",
       "3  4.000000  40.700000  164.000000  458.000000  132.052461\n",
       "4  4.948598  47.769626  249.912281  464.264151  151.767633"
      ]
     },
     "execution_count": 2,
     "metadata": {},
     "output_type": "execute_result"
    }
   ],
   "source": [
    "# loading the dataset\n",
    "df = pd.read_excel(r'C:\\Users\\Admin\\Desktop\\PROJECT\\FYP\\Air-Quality-Index-Analysis\\AQI\\aqi_data.xlsx')\n",
    "df.head()"
   ]
  },
  {
   "cell_type": "markdown",
   "metadata": {},
   "source": [
    "## Calculation of pearson correlation"
   ]
  },
  {
   "cell_type": "markdown",
   "metadata": {},
   "source": [
    "The Pearson’s correlation coefficient is calculated as the covariance of the two variables divided by the product of the standard deviation of each data sample. It is the normalization of the covariance between the two variables to give an interpretable score. <br>\n",
    "\n",
    "The coefficient returns a value between -1 and 1 that represents the limits of correlation from a full negative correlation to a full positive correlation. A value of 0 means no correlation. The value must be interpreted, where often a value below -0.5 or above 0.5 indicates a notable correlation, and values below those values suggests a less notable correlation."
   ]
  },
  {
   "cell_type": "code",
   "execution_count": 4,
   "metadata": {},
   "outputs": [
    {
     "data": {
      "text/html": [
       "<div>\n",
       "<style scoped>\n",
       "    .dataframe tbody tr th:only-of-type {\n",
       "        vertical-align: middle;\n",
       "    }\n",
       "\n",
       "    .dataframe tbody tr th {\n",
       "        vertical-align: top;\n",
       "    }\n",
       "\n",
       "    .dataframe thead th {\n",
       "        text-align: right;\n",
       "    }\n",
       "</style>\n",
       "<table border=\"1\" class=\"dataframe\">\n",
       "  <thead>\n",
       "    <tr style=\"text-align: right;\">\n",
       "      <th></th>\n",
       "      <th>so2</th>\n",
       "      <th>no2</th>\n",
       "      <th>rspm</th>\n",
       "      <th>spm</th>\n",
       "      <th>aqi</th>\n",
       "    </tr>\n",
       "  </thead>\n",
       "  <tbody>\n",
       "    <tr>\n",
       "      <td>so2</td>\n",
       "      <td>1.000000</td>\n",
       "      <td>0.265499</td>\n",
       "      <td>0.256085</td>\n",
       "      <td>0.277686</td>\n",
       "      <td>0.300683</td>\n",
       "    </tr>\n",
       "    <tr>\n",
       "      <td>no2</td>\n",
       "      <td>0.265499</td>\n",
       "      <td>1.000000</td>\n",
       "      <td>0.287978</td>\n",
       "      <td>0.451621</td>\n",
       "      <td>0.436497</td>\n",
       "    </tr>\n",
       "    <tr>\n",
       "      <td>rspm</td>\n",
       "      <td>0.256085</td>\n",
       "      <td>0.287978</td>\n",
       "      <td>1.000000</td>\n",
       "      <td>0.595617</td>\n",
       "      <td>0.840104</td>\n",
       "    </tr>\n",
       "    <tr>\n",
       "      <td>spm</td>\n",
       "      <td>0.277686</td>\n",
       "      <td>0.451621</td>\n",
       "      <td>0.595617</td>\n",
       "      <td>1.000000</td>\n",
       "      <td>0.936066</td>\n",
       "    </tr>\n",
       "    <tr>\n",
       "      <td>aqi</td>\n",
       "      <td>0.300683</td>\n",
       "      <td>0.436497</td>\n",
       "      <td>0.840104</td>\n",
       "      <td>0.936066</td>\n",
       "      <td>1.000000</td>\n",
       "    </tr>\n",
       "  </tbody>\n",
       "</table>\n",
       "</div>"
      ],
      "text/plain": [
       "           so2       no2      rspm       spm       aqi\n",
       "so2   1.000000  0.265499  0.256085  0.277686  0.300683\n",
       "no2   0.265499  1.000000  0.287978  0.451621  0.436497\n",
       "rspm  0.256085  0.287978  1.000000  0.595617  0.840104\n",
       "spm   0.277686  0.451621  0.595617  1.000000  0.936066\n",
       "aqi   0.300683  0.436497  0.840104  0.936066  1.000000"
      ]
     },
     "execution_count": 4,
     "metadata": {},
     "output_type": "execute_result"
    }
   ],
   "source": [
    "pearsoncorr = df.corr(method=\"pearson\")\n",
    "pearsoncorr"
   ]
  },
  {
   "cell_type": "code",
   "execution_count": 9,
   "metadata": {},
   "outputs": [
    {
     "data": {
      "text/plain": [
       "<matplotlib.axes._subplots.AxesSubplot at 0x23226d9a448>"
      ]
     },
     "execution_count": 9,
     "metadata": {},
     "output_type": "execute_result"
    },
    {
     "data": {
      "image/png": "[encoded data removed]",
      "text/plain": [
       "<Figure size 432x288 with 2 Axes>"
      ]
     },
     "metadata": {
      "needs_background": "light"
     },
     "output_type": "display_data"
    }
   ],
   "source": [
    "sb.heatmap(pearsoncorr,\n",
    "          xticklabels=pearsoncorr.columns,\n",
    "          yticklabels=pearsoncorr.columns,\n",
    "          cmap=\"RdBu_r\",\n",
    "          annot=True,\n",
    "          linewidth=0.5)"
   ]
  },
  {
   "cell_type": "markdown",
   "metadata": {},
   "source": [
    "## Calculation of kendall correlation"
   ]
  },
  {
   "cell_type": "code",
   "execution_count": 11,
   "metadata": {},
   "outputs": [
    {
     "data": {
      "text/html": [
       "<div>\n",
       "<style scoped>\n",
       "    .dataframe tbody tr th:only-of-type {\n",
       "        vertical-align: middle;\n",
       "    }\n",
       "\n",
       "    .dataframe tbody tr th {\n",
       "        vertical-align: top;\n",
       "    }\n",
       "\n",
       "    .dataframe thead th {\n",
       "        text-align: right;\n",
       "    }\n",
       "</style>\n",
       "<table border=\"1\" class=\"dataframe\">\n",
       "  <thead>\n",
       "    <tr style=\"text-align: right;\">\n",
       "      <th></th>\n",
       "      <th>so2</th>\n",
       "      <th>no2</th>\n",
       "      <th>rspm</th>\n",
       "      <th>spm</th>\n",
       "      <th>aqi</th>\n",
       "    </tr>\n",
       "  </thead>\n",
       "  <tbody>\n",
       "    <tr>\n",
       "      <td>so2</td>\n",
       "      <td>1.000000</td>\n",
       "      <td>0.336800</td>\n",
       "      <td>0.270661</td>\n",
       "      <td>0.238523</td>\n",
       "      <td>0.258077</td>\n",
       "    </tr>\n",
       "    <tr>\n",
       "      <td>no2</td>\n",
       "      <td>0.336800</td>\n",
       "      <td>1.000000</td>\n",
       "      <td>0.306721</td>\n",
       "      <td>0.393693</td>\n",
       "      <td>0.433446</td>\n",
       "    </tr>\n",
       "    <tr>\n",
       "      <td>rspm</td>\n",
       "      <td>0.270661</td>\n",
       "      <td>0.306721</td>\n",
       "      <td>1.000000</td>\n",
       "      <td>0.565037</td>\n",
       "      <td>0.762804</td>\n",
       "    </tr>\n",
       "    <tr>\n",
       "      <td>spm</td>\n",
       "      <td>0.238523</td>\n",
       "      <td>0.393693</td>\n",
       "      <td>0.565037</td>\n",
       "      <td>1.000000</td>\n",
       "      <td>0.820521</td>\n",
       "    </tr>\n",
       "    <tr>\n",
       "      <td>aqi</td>\n",
       "      <td>0.258077</td>\n",
       "      <td>0.433446</td>\n",
       "      <td>0.762804</td>\n",
       "      <td>0.820521</td>\n",
       "      <td>1.000000</td>\n",
       "    </tr>\n",
       "  </tbody>\n",
       "</table>\n",
       "</div>"
      ],
      "text/plain": [
       "           so2       no2      rspm       spm       aqi\n",
       "so2   1.000000  0.336800  0.270661  0.238523  0.258077\n",
       "no2   0.336800  1.000000  0.306721  0.393693  0.433446\n",
       "rspm  0.270661  0.306721  1.000000  0.565037  0.762804\n",
       "spm   0.238523  0.393693  0.565037  1.000000  0.820521\n",
       "aqi   0.258077  0.433446  0.762804  0.820521  1.000000"
      ]
     },
     "execution_count": 11,
     "metadata": {},
     "output_type": "execute_result"
    }
   ],
   "source": [
    "kendallcorr = df.corr(method=\"kendall\")\n",
    "kendallcorr"
   ]
  },
  {
   "cell_type": "code",
   "execution_count": 12,
   "metadata": {},
   "outputs": [
    {
     "data": {
      "text/plain": [
       "<matplotlib.axes._subplots.AxesSubplot at 0x23226e7b408>"
      ]
     },
     "execution_count": 12,
     "metadata": {},
     "output_type": "execute_result"
    },
    {
     "data": {
      "image/png": "[encoded data removed]",
      "text/plain": [
       "<Figure size 432x288 with 2 Axes>"
      ]
     },
     "metadata": {
      "needs_background": "light"
     },
     "output_type": "display_data"
    }
   ],
   "source": [
    "sb.heatmap(kendallcorr,\n",
    "          xticklabels=kendallcorr.columns,\n",
    "          yticklabels=kendallcorr.columns,\n",
    "          cmap=\"RdBu_r\",\n",
    "          annot=True,\n",
    "          linewidth=0.5)"
   ]
  },
  {
   "cell_type": "markdown",
   "metadata": {},
   "source": [
    "## Calculation of spearman correlation"
   ]
  },
  {
   "cell_type": "markdown",
   "metadata": {},
   "source": [
    "Instead of calculating the coefficient using covariance and standard deviations on the samples themselves, these statistics are calculated from the relative rank of values on each sample. This is a common approach used in non-parametric statistics, e.g. statistical methods where we do not assume a distribution of the data such as Gaussian."
   ]
  },
  {
   "cell_type": "code",
   "execution_count": 13,
   "metadata": {},
   "outputs": [
    {
     "data": {
      "text/html": [
       "<div>\n",
       "<style scoped>\n",
       "    .dataframe tbody tr th:only-of-type {\n",
       "        vertical-align: middle;\n",
       "    }\n",
       "\n",
       "    .dataframe tbody tr th {\n",
       "        vertical-align: top;\n",
       "    }\n",
       "\n",
       "    .dataframe thead th {\n",
       "        text-align: right;\n",
       "    }\n",
       "</style>\n",
       "<table border=\"1\" class=\"dataframe\">\n",
       "  <thead>\n",
       "    <tr style=\"text-align: right;\">\n",
       "      <th></th>\n",
       "      <th>so2</th>\n",
       "      <th>no2</th>\n",
       "      <th>rspm</th>\n",
       "      <th>spm</th>\n",
       "      <th>aqi</th>\n",
       "    </tr>\n",
       "  </thead>\n",
       "  <tbody>\n",
       "    <tr>\n",
       "      <td>so2</td>\n",
       "      <td>1.000000</td>\n",
       "      <td>0.353796</td>\n",
       "      <td>0.285946</td>\n",
       "      <td>0.252773</td>\n",
       "      <td>0.274574</td>\n",
       "    </tr>\n",
       "    <tr>\n",
       "      <td>no2</td>\n",
       "      <td>0.353796</td>\n",
       "      <td>1.000000</td>\n",
       "      <td>0.326135</td>\n",
       "      <td>0.422880</td>\n",
       "      <td>0.463498</td>\n",
       "    </tr>\n",
       "    <tr>\n",
       "      <td>rspm</td>\n",
       "      <td>0.285946</td>\n",
       "      <td>0.326135</td>\n",
       "      <td>1.000000</td>\n",
       "      <td>0.597386</td>\n",
       "      <td>0.791862</td>\n",
       "    </tr>\n",
       "    <tr>\n",
       "      <td>spm</td>\n",
       "      <td>0.252773</td>\n",
       "      <td>0.422880</td>\n",
       "      <td>0.597386</td>\n",
       "      <td>1.000000</td>\n",
       "      <td>0.847515</td>\n",
       "    </tr>\n",
       "    <tr>\n",
       "      <td>aqi</td>\n",
       "      <td>0.274574</td>\n",
       "      <td>0.463498</td>\n",
       "      <td>0.791862</td>\n",
       "      <td>0.847515</td>\n",
       "      <td>1.000000</td>\n",
       "    </tr>\n",
       "  </tbody>\n",
       "</table>\n",
       "</div>"
      ],
      "text/plain": [
       "           so2       no2      rspm       spm       aqi\n",
       "so2   1.000000  0.353796  0.285946  0.252773  0.274574\n",
       "no2   0.353796  1.000000  0.326135  0.422880  0.463498\n",
       "rspm  0.285946  0.326135  1.000000  0.597386  0.791862\n",
       "spm   0.252773  0.422880  0.597386  1.000000  0.847515\n",
       "aqi   0.274574  0.463498  0.791862  0.847515  1.000000"
      ]
     },
     "execution_count": 13,
     "metadata": {},
     "output_type": "execute_result"
    }
   ],
   "source": [
    "spearmancorr = df.corr(method=\"spearman\")\n",
    "spearmancorr"
   ]
  },
  {
   "cell_type": "code",
   "execution_count": 14,
   "metadata": {},
   "outputs": [
    {
     "data": {
      "text/plain": [
       "<matplotlib.axes._subplots.AxesSubplot at 0x23226f56288>"
      ]
     },
     "execution_count": 14,
     "metadata": {},
     "output_type": "execute_result"
    },
    {
     "data": {
      "image/png": "[encoded data removed]",
      "text/plain": [
       "<Figure size 432x288 with 2 Axes>"
      ]
     },
     "metadata": {
      "needs_background": "light"
     },
     "output_type": "display_data"
    }
   ],
   "source": [
    "sb.heatmap(spearmancorr,\n",
    "          xticklabels=spearmancorr.columns,\n",
    "          yticklabels=spearmancorr.columns,\n",
    "          cmap=\"RdBu_r\",\n",
    "          annot=True,\n",
    "          linewidth=0.5)"
   ]
  },
  {
   "cell_type": "markdown",
   "metadata": {},
   "source": [
    "### Inference\n",
    "We can see that all the pollutants are positivels correlated to the AQI value.<br>\n",
    "The high positive correlatio of SPM with the AQI indicates that it is the major contributor towards the pollution of air."
   ]
  },
  {
   "cell_type": "markdown",
   "metadata": {},
   "source": [
    "### References\n",
    "\n",
    "<a> https://www.geeksforgeeks.org/python-pandas-dataframe-corr/ </a><br>\n",
    "<a> https://pandas.pydata.org/pandas-docs/stable/reference/api/pandas.DataFrame.corr.html </a>"
   ]
  }
 ],
 "metadata": {
  "kernelspec": {
   "display_name": "Python 3",
   "language": "python",
   "name": "python3"
  },
  "language_info": {
   "codemirror_mode": {
    "name": "ipython",
    "version": 3
   },
   "file_extension": ".py",
   "mimetype": "text/x-python",
   "name": "python",
   "nbconvert_exporter": "python",
   "pygments_lexer": "ipython3",
   "version": "3.7.4"
  }
 },
 "nbformat": 4,
 "nbformat_minor": 2
}
